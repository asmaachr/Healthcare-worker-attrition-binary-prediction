{
 "cells": [
  {
   "cell_type": "code",
   "execution_count": 2,
   "metadata": {},
   "outputs": [
    {
     "name": "stdout",
     "output_type": "stream",
     "text": [
      "...\n",
      "request successful\n",
      "...\n",
      "{'prediction': '[1]'}\n"
     ]
    }
   ],
   "source": [
    "## Python test file for flask to test locally\n",
    "import requests as r\n",
    "import pandas as pd\n",
    "import json\n",
    "\n",
    "base_url = 'http://127.0.0.1:5000/' #base url local host\n",
    "\n",
    "json_ = [\n",
    "    {\n",
    "    \"EmployeeID\" : 1699288,\n",
    "    \"Age\" : 30,\n",
    "    \"BusinessTravel\" : \"Travel_Rarely\",\n",
    "    \"DailyRate\" : 1358,\n",
    "    \"Department\" : \"Maternity\",\n",
    "    \"DistanceFromHome\" : 24,\n",
    "    \"Education\" : 1,\n",
    "    \"EducationField\" : \"Life Sciences\",\n",
    "    \"EmployeeCount\" : 1,\n",
    "    \"EnvironmentSatisfaction\" :4,\n",
    "    \"Gender\" : \"Male\",\n",
    "    \"HourlyRate\" : 67,\n",
    "    \"JobInvolvement\" : 3,\n",
    "    \"JobLevel\": 1,\n",
    "    \"JobRole\" : \"Nurse\",\n",
    "    \"JobSatisfaction\" : 3,\n",
    "    \"MaritalStatus\" : \"Divorced\",\n",
    "    \"MonthlyIncome\" : 2693,\n",
    "    \"MonthlyRate\" : 13335,\n",
    "    \"NumCompaniesWorked\" : 1,\n",
    "    \"Over18\" : \"Y\",\n",
    "    \"OverTime\" : \"No\",\n",
    "    \"PercentSalaryHike\" : 22,\n",
    "    \"PerformanceRating\" : 4,\n",
    "    \"RelationshipSatisfaction\" : 2,\n",
    "    \"StandardHours\"  : 80,\n",
    "    \"Shift\" : 1,\n",
    "    \"TotalWorkingYears\" : 1,\n",
    "    \"TrainingTimesLastYear\" : 2,\n",
    "    \"WorkLifeBalance\" : 3,\n",
    "    \"YearsAtCompany\" : 1,\n",
    "    \"YearsInCurrentRole\" : 0,\n",
    "    \"YearsSinceLastPromotion\" : 0,\n",
    "    \"YearsWithCurrManager\" :0\n",
    "\n",
    "       }\n",
    "]\n",
    "\n",
    "\n",
    "\n",
    "# Get Response\n",
    "# response = r.get(base_url)\n",
    "response = r.post(base_url + \"predict\", json = json_)\n",
    "\n",
    "\n",
    "if response.status_code == 200:\n",
    "    print('...')\n",
    "    print('request successful')\n",
    "    print('...')\n",
    "    print(response.json())\n",
    "else:\n",
    "    print(response.json())\n",
    "    print('request failed')"
   ]
  }
 ],
 "metadata": {
  "kernelspec": {
   "display_name": "test_env",
   "language": "python",
   "name": "test_env"
  },
  "language_info": {
   "codemirror_mode": {
    "name": "ipython",
    "version": 3
   },
   "file_extension": ".py",
   "mimetype": "text/x-python",
   "name": "python",
   "nbconvert_exporter": "python",
   "pygments_lexer": "ipython3",
   "version": "3.9.16"
  },
  "orig_nbformat": 4
 },
 "nbformat": 4,
 "nbformat_minor": 2
}
